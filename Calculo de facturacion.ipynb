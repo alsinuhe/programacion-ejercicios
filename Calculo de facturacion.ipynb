{
 "cells": [
  {
   "cell_type": "markdown",
   "id": "20c1c9dd",
   "metadata": {},
   "source": [
    "# Cotejando depósitos de honorarios\n",
    "Programa para calcular los importes de cada factura."
   ]
  },
  {
   "cell_type": "markdown",
   "id": "fd0b2146",
   "metadata": {},
   "source": [
    "## Limitantes\n",
    "Impuesto  al  Valor  Agregado  (IVA):  al  importe  bruto  se  le  agrega  el 16% de IVA y la empresa le retiene de este impuesto las dos terceras partes.\n",
    "\n",
    "Impuesto  sobre  la  Renta  (ISR):  la  empresa  le  retiene  el  10%  de  ISR que se calcula sobre el importebruto de la factura."
   ]
  },
  {
   "cell_type": "code",
   "execution_count": 22,
   "id": "d676a3bf",
   "metadata": {},
   "outputs": [
    {
     "name": "stdout",
     "output_type": "stream",
     "text": [
      "Ingrese el importe bruto de la factura\n",
      "5000\n",
      "Importe bruto: $5000.0\n",
      "IVA: $800.0\n",
      "Subtotal: $5800.0\n",
      "IVA retenido: $533.3333333333334\n",
      "ISR retenido: $500.0\n",
      "Total de retenciones: $1033.3333333333335\n",
      "Total del depósito: $4766.666666666666\n"
     ]
    }
   ],
   "source": [
    "#IVA de un 16%\n",
    "print('Ingrese el importe bruto de la factura')\n",
    "importe = float(input())\n",
    "importe_bruto = importe\n",
    "iva = importe_bruto * .16\n",
    "subtotal = importe_bruto + IVA\n",
    "iva_retenido = (iva / 3) * 2\n",
    "isr_retenido = (importe_bruto) * .1\n",
    "total_retenciones = iva_retenido + isr_retenido\n",
    "deposito_total = subtotal - total_retenciones\n",
    "print('Importe bruto: ' + '$' + str(importe_bruto))\n",
    "print('IVA: ' + '$' + str(iva))\n",
    "print('Subtotal: ' + '$' + str(subtotal))\n",
    "print('IVA retenido: ' + '$' + str(iva_retenido))\n",
    "print('ISR retenido: ' + '$' + str(isr_retenido))\n",
    "print('Total de retenciones: ' + '$' + str(total_retenciones))\n",
    "print('Total del depósito: ' + '$' + str(deposito_total))\n"
   ]
  },
  {
   "cell_type": "markdown",
   "id": "27b201de",
   "metadata": {},
   "source": [
    "## Limitantes ciudades frontera norte\n",
    "la ciudad fronteriza de Tijuana y que trabaja bajo el mismo esquema que\n",
    "ella, pero para otra compañía. Según el estímulo fiscal para este año, para\n",
    "las ciudades de la frontera norte, el IVA que se grava es del 8% y se cuenta\n",
    "con un crédito fiscal del ISR de una tercera parte de éste, es decir,\n",
    "solamente se le retiene por este concepto dos terceras partes de este\n",
    "impuesto."
   ]
  },
  {
   "cell_type": "code",
   "execution_count": 21,
   "id": "da3cc40f",
   "metadata": {},
   "outputs": [
    {
     "name": "stdout",
     "output_type": "stream",
     "text": [
      "Ingrese el importe bruto de la factura\n",
      "5000\n",
      "Importe bruto: $5000.0\n",
      "IVA: $400.0\n",
      "Subtotal: $5800.0\n",
      "IVA retenido: $266.6666666666667\n",
      "ISR retenido: $500.0\n",
      "Total de retenciones: $766.6666666666667\n",
      "Total del depósito: $5033.333333333333\n"
     ]
    }
   ],
   "source": [
    "#IVA de un 8%\n",
    "print('Ingrese el importe bruto de la factura')\n",
    "importe = float(input())\n",
    "importe_bruto = importe\n",
    "iva = importe_bruto * .08\n",
    "subtotal = importe_bruto + IVA\n",
    "iva_retenido = (iva / 3) * 2\n",
    "isr_retenido = (importe_bruto) * .1\n",
    "total_retenciones = iva_retenido + isr_retenido\n",
    "deposito_total = subtotal - total_retenciones\n",
    "print('Importe bruto: ' + '$' + str(importe_bruto))\n",
    "print('IVA: ' + '$' + str(iva))\n",
    "print('Subtotal: ' + '$' + str(subtotal))\n",
    "print('IVA retenido: ' + '$' + str(iva_retenido))\n",
    "print('ISR retenido: ' + '$' + str(isr_retenido))\n",
    "print('Total de retenciones: ' + '$' + str(total_retenciones))\n",
    "print('Total del depósito: ' + '$' + str(deposito_total))"
   ]
  },
  {
   "cell_type": "markdown",
   "id": "7bd87fe4",
   "metadata": {},
   "source": [
    "## Para visualizar el cuaderno interactivo ingrese a:\n",
    "https://github.com/alsinuhe/programacion-ejercicios"
   ]
  }
 ],
 "metadata": {
  "kernelspec": {
   "display_name": "Python 3",
   "language": "python",
   "name": "python3"
  },
  "language_info": {
   "codemirror_mode": {
    "name": "ipython",
    "version": 3
   },
   "file_extension": ".py",
   "mimetype": "text/x-python",
   "name": "python",
   "nbconvert_exporter": "python",
   "pygments_lexer": "ipython3",
   "version": "3.8.2"
  }
 },
 "nbformat": 4,
 "nbformat_minor": 5
}
